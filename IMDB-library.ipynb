{
 "cells": [
  {
   "cell_type": "markdown",
   "metadata": {},
   "source": [
    "# Import packages"
   ]
  },
  {
   "cell_type": "code",
   "execution_count": 1,
   "metadata": {},
   "outputs": [],
   "source": [
    "#Import time package\n",
    "from datetime import datetime\n",
    "from dbm.ndbm import library\n",
    "from pickle import TRUE\n",
    "import time\n",
    "\n",
    "\n",
    "#Import Interface builder package\n",
    "from tkinter import *  \n",
    "from tkinter import ttk \n",
    "from tkinter.ttk import * "
   ]
  },
  {
   "cell_type": "markdown",
   "metadata": {},
   "source": [
    "# Import movie text file and create dictionary"
   ]
  },
  {
   "cell_type": "code",
   "execution_count": 2,
   "metadata": {},
   "outputs": [
    {
     "name": "stdout",
     "output_type": "stream",
     "text": [
      "{'Sleepers': {'Kevin Bacon', 'Dustin Hoffman', 'Brad Pitt'}, 'Troy': {'Diane Kruger', 'Brad Pitt'}, 'Meet Joe Black': {'Anthony Hopkins', 'Brad Pitt'}, 'Oceans Eleven': {'Julia Roberts', 'George Clooney', 'Brad Pitt'}, 'Seven': {'Morgan Freeman', 'Brad Pitt'}, 'Mr & Mrs Smith': {'Angelina Jolie', 'Brad Pitt'}, 'You have got mail': {'Tom Hanks', 'Meg Ryan'}, 'Apollo 13': {'Tom Hanks'}, 'Sleepless in Seattle': {'Tom Hanks', 'Meg Ryan'}, 'Catch Me If You Can': {'Leonardo Di Caprio', 'Tom Hanks'}, 'National Treasure': {'Diane Kruger'}, 'The Lost City': {'Dustin Hoffman'}, 'Hannibal': {'Julianne Moore', 'Anthony Hopkins'}, 'The Edge': {'Anthony Hopkins', 'Alec Baldwin'}, 'Proof': {'Gwyneth Paltrow', 'Anthony Hopkins'}, 'Pearl Harbor': {'Ben Affleck', 'Alec Baldwin'}, 'Bone Collector': {'Morgan Freeman', 'Denzel Washington', 'Angelina Jolie'}, 'Lara Croft Tomb Raider': {'Angelina Jolie'}, 'The Siege': {'Denzel Washington', 'Bruce Willis'}, 'American Gangster': {'Denzel Washington', 'Russell Crowe'}, 'Pretty Woman': {'Julia Roberts'}, 'Runaway Bride': {'Julia Roberts'}, 'Shakespeare in Love': {'Gwyneth Paltrow'}, 'Bounce': {'Gwyneth Paltrow', 'Ben Affleck'}, 'Gladiator': {'Russell Crowe'}, 'A Beautiful Mind': {'Russell Crowe'}, 'Cinderella Man': {'Russell Crowe', 'Renee Zellweger'}, 'Rocky': {'Sylvester Stallone'}, 'Rambo': {'Sylvester Stallone'}, 'Assassins': {'Julianne Moore', 'Sylvester Stallone'}, 'Edward Scissorhands': {'Johnny Depp'}, 'The Pirates of Caribbean': {'Johnny Depp'}, 'Finding Neverland': {'Johnny Depp'}, 'Titanic': {'Leonardo Di Caprio', 'Kate Winslet'}, 'Blood Diamond': {'Leonardo Di Caprio'}, 'The Departed': {'Leonardo Di Caprio', 'Matt Damon'}, 'The Mask of Zorro': {'Catherine Zeta Jones', 'Antonio Banderas'}, 'Desperado': {'Salma Hayek', 'Antonio Banderas'}, 'Top Gun': {'Tom Cruise'}, 'Mission Impossible': {'Tom Cruise'}, 'Jerry Maguire': {'Tom Cruise', 'Renee Zellweger'}, 'A Few Good Men': {'Tom Cruise', 'Kevin Bacon'}, ' Finding Neverland': {'Kate Winslet'}, 'Intolerable Cruelty': {'George Clooney'}, 'Good Will Hunting': {'Matt Damon', 'Ben Affleck'}, 'Bourne Identity': {'Matt Damon'}, 'Bourne Ultimatum': {'Matt Damon'}, ' Intolerable Cruelty': {'Catherine Zeta Jones'}, 'Million Dollar Baby': {'Morgan Freeman'}, 'Bruce Almighty': {'Morgan Freeman', 'Jim Carrey'}, 'Die Hard': {'Bruce Willis'}, 'The Sixth Sense': {'Bruce Willis'}, 'Pulp Fiction': {'Bruce Willis'}, 'Wild Wild West': {'Will Smith', 'Salma Hayek'}, 'Pursuit of Happyness': {'Will Smith'}, 'Hitch': {'Will Smith'}, 'Men in Black': {'Will Smith'}, 'The Mask': {'Jim Carrey'}, 'Ace Ventura': {'Jim Carrey'}, 'Me-Myself & Irene': {'Renee Zellweger', 'Jim Carrey'}}\n"
     ]
    }
   ],
   "source": [
    "#Import movie text file and create dictionary\n",
    "movies_dict = {}\n",
    "with open(\"movies.txt\") as file:\n",
    "  for line in file:\n",
    "    line = line.strip()\n",
    "    movie_info = line.split(\", \")\n",
    "    for i in range(1, len(movie_info)):\n",
    "      if movie_info[i] in movies_dict.keys():\n",
    "        movies_dict[movie_info[i]].add(movie_info[0])\n",
    "      else:\n",
    "        movies_dict[movie_info[i]]=set()\n",
    "        movies_dict[movie_info[i]].add(movie_info[0])\n",
    "  \n",
    "  # Print dictionary as a test\n",
    "  print(movies_dict)"
   ]
  },
  {
   "cell_type": "markdown",
   "metadata": {},
   "source": [
    "# Create List of movies"
   ]
  },
  {
   "cell_type": "code",
   "execution_count": 3,
   "metadata": {},
   "outputs": [
    {
     "name": "stdout",
     "output_type": "stream",
     "text": [
      "['Sleepers', 'Troy', 'Meet Joe Black', 'Oceans Eleven', 'Seven', 'Mr & Mrs Smith', 'You have got mail', 'Apollo 13', 'Sleepless in Seattle', 'Catch Me If You Can', 'National Treasure', 'The Lost City', 'Hannibal', 'The Edge', 'Proof', 'Pearl Harbor', 'Bone Collector', 'Lara Croft Tomb Raider', 'The Siege', 'American Gangster', 'Pretty Woman', 'Runaway Bride', 'Shakespeare in Love', 'Bounce', 'Gladiator', 'A Beautiful Mind', 'Cinderella Man', 'Rocky', 'Rambo', 'Assassins', 'Edward Scissorhands', 'The Pirates of Caribbean', 'Finding Neverland', 'Titanic', 'Blood Diamond', 'The Departed', 'The Mask of Zorro', 'Desperado', 'Top Gun', 'Mission Impossible', 'Jerry Maguire', 'A Few Good Men', ' Finding Neverland', 'Intolerable Cruelty', 'Good Will Hunting', 'Bourne Identity', 'Bourne Ultimatum', ' Intolerable Cruelty', 'Million Dollar Baby', 'Bruce Almighty', 'Die Hard', 'The Sixth Sense', 'Pulp Fiction', 'Wild Wild West', 'Pursuit of Happyness', 'Hitch', 'Men in Black', 'The Mask', 'Ace Ventura', 'Me-Myself & Irene']\n"
     ]
    }
   ],
   "source": [
    "# create a list of all movies by looping through the movies_dict dictionary\n",
    "movies_list = []\n",
    "for movie, actors in movies_dict.items():\n",
    "    movies_list.append(movie)\n",
    "\n",
    "# Print list as a test\n",
    "print(movies_list)"
   ]
  },
  {
   "cell_type": "markdown",
   "metadata": {},
   "source": [
    "# Create list of actors"
   ]
  },
  {
   "cell_type": "code",
   "execution_count": 4,
   "metadata": {},
   "outputs": [
    {
     "name": "stdout",
     "output_type": "stream",
     "text": [
      "['Kate Winslet', 'Dustin Hoffman', 'Jim Carrey', 'Sylvester Stallone', 'Meg Ryan', 'Antonio Banderas', 'Alec Baldwin', 'Johnny Depp', 'Morgan Freeman', 'Brad Pitt', 'Tom Cruise', 'Ben Affleck', 'Denzel Washington', 'Will Smith', 'Diane Kruger', 'Gwyneth Paltrow', 'Julia Roberts', 'Bruce Willis', 'Angelina Jolie', 'Salma Hayek', 'George Clooney', 'Anthony Hopkins', 'Kevin Bacon', 'Tom Hanks', 'Julianne Moore', 'Leonardo Di Caprio', 'Catherine Zeta Jones', 'Matt Damon', 'Russell Crowe', 'Renee Zellweger']\n"
     ]
    }
   ],
   "source": [
    "# creating a sinlge list of all unique actors by looping thorugh the movies_dict dictionary\n",
    "actors_list = []\n",
    "for movie, actors in movies_dict.items():\n",
    "    actors_list.append(actors)\n",
    "actors_list = list(set([item for sublist in actors_list for item in sublist]))\n",
    "\n",
    "# Print list as a test \n",
    "print(actors_list)"
   ]
  },
  {
   "cell_type": "markdown",
   "metadata": {},
   "source": [
    "# Create functions"
   ]
  },
  {
   "cell_type": "code",
   "execution_count": 5,
   "metadata": {},
   "outputs": [],
   "source": [
    "\n",
    "#################################################      Function 1      ################################################# \n",
    "\n",
    "def FUNCTION():\n",
    "\n",
    "  # Determine input source. Inputs are taken from interface tickboxes and dropdown menues described in the interface section\n",
    "  Selection_1 = var1.get()\n",
    "  Selection_2 = var2.get()\n",
    "  Selection_3 = var3.get()\n",
    "  Movie_1 = movie_1.get()\n",
    "  Movie_2 = movie_2.get()\n",
    "  actors_1 = movies_dict[Movie_1]\n",
    "  actors_2 = movies_dict[Movie_2]\n",
    "\n",
    "  if Selection_1 == 1:\n",
    "\n",
    "    # Return all actors that played in the selected movies\n",
    "    all_list = [actors_1, actors_2]\n",
    "    all_list = [item for sublist in all_list for item in sublist]\n",
    "    union_list = sorted(list(set(all_list)))\n",
    "    \n",
    "    # Return the results in the following format\n",
    "    label_5.config(text = \"Actors who played in the movies \" + str(Movie_1) + \" & \" + str(Movie_2) + \" are:\\n\" + \"\\n\".join(union_list))\n",
    "\n",
    "\n",
    "  elif Selection_2 == 1:\n",
    "\n",
    "    # Return actors that starred in both selected movies \n",
    "     intersection_list = actors_1.intersection(actors_2)\n",
    "     intersection_list = sorted(list(set(intersection_list)))\n",
    "\n",
    "     # Return the results in the following format\n",
    "     label_6.config(text = \"Actors who played in both \" + str(Movie_1) + \" & \" + str(Movie_2) + \" are:\\n\" + \"\\n\".join(intersection_list))\n",
    "\n",
    "\n",
    "  elif Selection_3 == 1:\n",
    "\n",
    "      # Return actors that starred in one movie but not the other\n",
    "       difference_list = (actors_1.difference(actors_2), actors_2.difference(actors_1))\n",
    "       difference_list = [item for sublist in difference_list for item in sublist]\n",
    "       difference_list = sorted(list(set(difference_list)))\n",
    "\n",
    "       # Return the results in the following format\n",
    "       label_7.config(text = \"Actors who played in \" +  str(Movie_1) + \" but not in \" + str(Movie_2) + \" and vice versa are:\\n\" + \"\\n\".join(difference_list))\n",
    "\n",
    "\n",
    "\n",
    "#################################################      Function 2      ################################################# \n",
    "\n",
    "def FUNCTION_2():\n",
    "  actor_input = actor_1.get()\n",
    "  movies = []\n",
    "\n",
    "  # Create an empty list for coactors of the actor\n",
    "  coactors = []\n",
    "\n",
    "  # loop through each movie and the corresponding actors within the movie dictionary and adding all movies to the movies-list that the actor played in\n",
    "\n",
    "  for movie, actors in movies_dict.items():\n",
    "    if actor_input in actors:\n",
    "      movies.append(movie)\n",
    "\n",
    "  # loop through the movie-list and adding all respective actors as denoted in the movies-dictionary to the coactors-list\n",
    "\n",
    "  coactors = [movies_dict[b] for b in movies]\n",
    "\n",
    "  # reducing the coactors-list of lists to a simple list  \n",
    "\n",
    "  coactors = [item for sublist in coactors for item in sublist]\n",
    "  # removing all the dublicates in the coactors-list\n",
    "\n",
    "  coactors = list(set(coactors))\n",
    "\n",
    "  # removing the inputed actor from the coactor list\n",
    "\n",
    "  coactors.remove(actor_input)\n",
    "  \n",
    "  # printing the inputed actor name, all the movies he played in as a list and all his coactors \n",
    "  #print(actor_input, \"played in\", movies, \"with the following coactors:\")\n",
    "  #print(*coactors, sep = \"\\n\")\n",
    "\n",
    "  label_9.config(text = str(actor_input) + \" played in \" + str(movies) + \" with the following coactors:\\n\" + \"\\n\".join(coactors))\n",
    "  \n",
    "\n"
   ]
  },
  {
   "cell_type": "markdown",
   "metadata": {},
   "source": [
    "# Greet user"
   ]
  },
  {
   "cell_type": "code",
   "execution_count": 6,
   "metadata": {},
   "outputs": [
    {
     "name": "stdout",
     "output_type": "stream",
     "text": [
      "\u001b[1;32;40m Good afternoon! Boa tarde! Guten Nachmittag! Buenas tardes! Bonjour! 下午好!\n",
      "Weclome to the IMDB library - Please use interface\n"
     ]
    }
   ],
   "source": [
    "# Greet the user with different greetings dependent on time of day as test for final use in interface\n",
    "# Notify the user to use the interface to execute tasks\n",
    "\n",
    "currentTime = datetime.now()\n",
    "currentTime.hour\n",
    "\n",
    "if currentTime.hour < 12:\n",
    "    print('\\033[1;32;40m Good morning! Bom dia! Guten Morgen! Buenos Dias! Bonjour! 早上好!')\n",
    "elif 12 <= currentTime.hour < 18:\n",
    "    print('\\033[1;32;40m Good afternoon! Boa tarde! Guten Nachmittag! Buenas tardes! Bonjour! 下午好!')\n",
    "else:\n",
    "    print('\\033[1;32;40m Good evening! Boa noite! Guten Abend! Buenas noches! Bon soir! 晚上好!')\n",
    "print('Weclome to the IMDB library - Please use interface')"
   ]
  },
  {
   "cell_type": "markdown",
   "metadata": {},
   "source": [
    "# Interface"
   ]
  },
  {
   "cell_type": "code",
   "execution_count": 7,
   "metadata": {},
   "outputs": [],
   "source": [
    "\n",
    "# Create greeting dependent on time of day\n",
    "\n",
    "def menu_IF():\n",
    "    if currentTime.hour < 12:\n",
    "        return('Good morning!')\n",
    "    elif 12 <= currentTime.hour < 18:\n",
    "        return('Good afternoon!')\n",
    "    else:\n",
    "        return('Good evening!')\n",
    "\n",
    " \n",
    "# Create interface and name it window\n",
    " \n",
    "window = Tk()\n",
    "\n",
    "# Create interface size - both vertical and horizontal dimension\n",
    "\n",
    "window.geometry('800x800')\n",
    "\n",
    "#Create interface title - IMDB library\n",
    "\n",
    "window.title(\"IMDB library\")\n",
    "\n",
    "# Create time entry in hours & minuted format\n",
    "\n",
    "now_string = time.strftime('%H:%M') \n",
    "\n",
    "# Place time label at the top of the interface\n",
    "\n",
    "label_1 = Label(window, text = now_string)  \n",
    "label_1.pack(side = TOP, pady = 5)\n",
    "\n",
    "# Raise the time label to create 3D effect\n",
    "\n",
    "label_1.configure(relief=RAISED)\n",
    "\n",
    "# Place time label with greeting to the user dependent on time of day as configured in \n",
    "\n",
    "label_2 = Label(window, text=menu_IF())\n",
    "label_2.pack(side = TOP)\n",
    "\n",
    "# Create separating line \n",
    "\n",
    "sep_1 = ttk.Separator(window,orient='horizontal')\n",
    "sep_1.pack(fill='x')\n",
    "\n",
    "# Create label for section 1: selection of movies and return of actor \"union/intersection/difference\" - title: \"list of movies\"\n",
    "\n",
    "label_4 = Label(window, text = \"list of movies\",)\n",
    "label_4.pack(side = TOP, pady = 10)\n",
    "\n",
    "# Create tickbox (1) to select \"union\" option which returns all actors that starred in the selected selected movies\n",
    "\n",
    "var1 = IntVar()  \n",
    "check = Checkbutton(window, text = \"Union\", variable=var1) \n",
    "check.pack(pady = 10) \n",
    "\n",
    "# Create tickbox (2) to select \"intersection\" option which returns actors that starred in both selected movies \n",
    "\n",
    "var2 = IntVar()  \n",
    "check = Checkbutton(window, text = \"Intersection\", variable=var2) \n",
    "check.pack(pady = 10) \n",
    "\n",
    "# Create tickbox (3) to select \"difference\" option which returns actors that starred in one of the selected movies but not the other\n",
    "\n",
    "var3 = IntVar()  \n",
    "check = Checkbutton(window, text = \"Difference\", variable=var3) \n",
    "check.pack(pady = 10) \n",
    "\n",
    "# Create dropdown menu which lets the user choose from all movies in the selected .txt file\n",
    "\n",
    "movie_1 = StringVar(window) \n",
    "movie_1.set(\"Select\")\n",
    "h = ttk.Combobox(window, textvariable=movie_1, values=[*movies_list])\n",
    "h.pack()\n",
    "\n",
    "# Create second dropdown menu which lets the user choose from all movies in the selected .txt file\n",
    "\n",
    "movie_2 = StringVar(window) \n",
    "movie_2.set(\"Select\")\n",
    "h = ttk.Combobox(window, textvariable=movie_2, values=[*movies_list])\n",
    "h.pack()\n",
    "\n",
    "# Create an execution button which returns a result based onn the selected inputs in the tickboxes and dropdown menus\n",
    "\n",
    "btn = Button(window, text =\"Find\", command=FUNCTION) \n",
    "btn.pack(pady = 10) \n",
    "options_h = StringVar(window)\n",
    "\n",
    "# Return result in case tickbox (1) was selected\n",
    "\n",
    "label_5 = Label(window, text = \"\")\n",
    "label_5.pack(side = TOP, pady = 2)\n",
    "\n",
    "# Return result in case tickbox (2) was selected\n",
    "\n",
    "label_6 = Label(window, text = \"\")\n",
    "label_6.pack(side = TOP, pady = 2)\n",
    "\n",
    "# Return result in case tickbox (3) was selected\n",
    "\n",
    "label_7 = Label(window, text = \"\")\n",
    "label_7.pack(side = TOP, pady = 2)\n",
    "\n",
    "# Create separating line \n",
    "\n",
    "sep_1 = ttk.Separator(window,orient='horizontal')\n",
    "sep_1.pack(fill='x')\n",
    "\n",
    "#Create label for section 2: selection of actor to return the movies he starred in along with the costars of these movies - title: \"list of actors\"\n",
    "\n",
    "label_8 = Label(window, text = \"list of actors\")\n",
    "label_8.pack(side = TOP, pady = 10)\n",
    "\n",
    "# Create dropdown menu which lets the user choose from all actors in the selected .txt file\n",
    "\n",
    "actor_1 = StringVar(window) \n",
    "actor_1.set(\"Select\")\n",
    "h = ttk.Combobox(window, textvariable=actor_1, values=[*actors_list])\n",
    "h.pack()\n",
    "\n",
    "# Create an execution button which returns a result based onn the selected inputs in the dropdown menu\n",
    "\n",
    "btn_2 = Button(window, text =\"Find\", command=FUNCTION_2) \n",
    "btn_2.pack(pady = 10) \n",
    "options_h = StringVar(window)\n",
    "\n",
    "# Returnn result\n",
    "\n",
    "label_9 = Label(window, text = \"\")\n",
    "label_9.pack(side = TOP, pady = 10)\n",
    "\n",
    "# Execute application (lets Tkinter to start running the application). As the name implies it will loop forever until the user exits the window or waits for any events from the user. The mainloop automatically receives events from the window system and delivers them to the application widgets\n",
    "\n",
    "window.mainloop()"
   ]
  }
 ],
 "metadata": {
  "interpreter": {
   "hash": "aee8b7b246df8f9039afb4144a1f6fd8d2ca17a180786b69acc140d282b71a49"
  },
  "kernelspec": {
   "display_name": "Python 3.10.0 64-bit",
   "language": "python",
   "name": "python3"
  },
  "language_info": {
   "codemirror_mode": {
    "name": "ipython",
    "version": 3
   },
   "file_extension": ".py",
   "mimetype": "text/x-python",
   "name": "python",
   "nbconvert_exporter": "python",
   "pygments_lexer": "ipython3",
   "version": "3.10.0"
  },
  "orig_nbformat": 4
 },
 "nbformat": 4,
 "nbformat_minor": 2
}
